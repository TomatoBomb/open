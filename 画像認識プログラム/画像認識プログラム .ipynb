{
  "nbformat": 4,
  "nbformat_minor": 0,
  "metadata": {
    "kernelspec": {
      "display_name": "Python 3",
      "language": "python",
      "name": "python3"
    },
    "language_info": {
      "codemirror_mode": {
        "name": "ipython",
        "version": 3
      },
      "file_extension": ".py",
      "mimetype": "text/x-python",
      "name": "python",
      "nbconvert_exporter": "python",
      "pygments_lexer": "ipython3",
      "version": "3.7.4-final"
    },
    "colab": {
      "provenance": []
    }
  },
  "cells": [
    {
      "cell_type": "markdown",
      "metadata": {
        "id": "kP2XZoUjCPgR"
      },
      "source": [
        "# 畳み込みによる画像認識\n",
        "実行推奨環境：GoogleColaboratory\n",
        "\n",
        "## ＜説明＞\n",
        "特段操作の説明がない限り、実行してください。"
      ]
    },
    {
      "cell_type": "code",
      "source": [
        "##少し時間を要する\n",
        "#pyTorchのインポート\n",
        "import torch\n",
        "#学習済みのモデルをインポート\n",
        "from torchvision import models\n",
        "#データ変換のためのモジュールをインポート\n",
        "from torchvision import transforms\n",
        "#画像修正のモジュールをインポート\n",
        "from PIL import Image\n",
        "#前処理用\n",
        "preprocess = transforms.Compose([\n",
        "        transforms.Resize(256),\n",
        "        transforms.CenterCrop(224),\n",
        "        transforms.ToTensor(),\n",
        "        transforms.Normalize(\n",
        "            mean=[0.485, 0.456, 0.406],\n",
        "            std=[0.229, 0.224, 0.225]\n",
        "        )])\n",
        "#101層のResNetを使用\n",
        "resnet = models.resnet101(pretrained=True)"
      ],
      "metadata": {
        "id": "Ag-63nSrwhOk"
      },
      "execution_count": null,
      "outputs": []
    },
    {
      "cell_type": "markdown",
      "source": [
        "## 操作①\n",
        "### githubから「imagenet.txt」ダウンロードした後、下記にアップロード"
      ],
      "metadata": {
        "id": "pNzVzU5QBGAI"
      }
    },
    {
      "cell_type": "code",
      "source": [
        "from google.colab import files\n",
        "uploaded_file = files.upload()"
      ],
      "metadata": {
        "id": "RG6JxzFi_JOf"
      },
      "execution_count": null,
      "outputs": []
    },
    {
      "cell_type": "code",
      "metadata": {
        "id": "PpGClycOAkJn"
      },
      "source": [
        "#画像識別後のラベルを読みこむ\n",
        "with open('imagenet.txt') as f:\n",
        "  labels = [line.strip() for line in f.readlines()]"
      ],
      "execution_count": null,
      "outputs": []
    },
    {
      "cell_type": "markdown",
      "source": [
        "## 操作②\n",
        "#### 任意の画像をアップロード（任意ではありますが、githubに用意があります）"
      ],
      "metadata": {
        "id": "ZhFf5QVEAjNB"
      }
    },
    {
      "cell_type": "code",
      "source": [
        "#画像の取り込み\n",
        "from google.colab import files\n",
        "uploaded_file = files.upload()"
      ],
      "metadata": {
        "id": "cBWh5Z8c6Bze"
      },
      "execution_count": null,
      "outputs": []
    },
    {
      "cell_type": "markdown",
      "source": [
        "## 操作③\n",
        "#### Image.openの(\"  \")内に画像のファイル名を入れる\n",
        "（例）<br>\n",
        "上記で、「**cat.jpg**」をアップロードした場合、<br> img = Image.open(\"**cat.jpg**\")"
      ],
      "metadata": {
        "id": "xfvb1s_5HbZD"
      }
    },
    {
      "cell_type": "code",
      "source": [
        "#画像の取り込み（ファイル名を()の中に入れる)\n",
        "img = Image.open(\"\")\n",
        "\n",
        "#画像の確認\n",
        "img"
      ],
      "metadata": {
        "id": "XByAc4K8p00A"
      },
      "execution_count": null,
      "outputs": []
    },
    {
      "cell_type": "code",
      "metadata": {
        "id": "GI5puQQ-AkJi"
      },
      "source": [
        "#画像データの前処理\n",
        "img_t = preprocess(img)\n",
        "batch_t = torch.unsqueeze(img_t, 0)\n",
        "#Resnetを推論モードにセットして実行\n",
        "resnet.eval()"
      ],
      "execution_count": null,
      "outputs": []
    },
    {
      "cell_type": "markdown",
      "source": [
        "## 結果の出力"
      ],
      "metadata": {
        "id": "1-YvdX_KJNMq"
      }
    },
    {
      "cell_type": "code",
      "metadata": {
        "id": "HuhFo9bAAkJk"
      },
      "source": [
        "#ResNetで画像を処理して、結果を出力\n",
        "out = resnet(batch_t)\n",
        "_, index = torch.max(out, 1)\n",
        "percentage = torch.nn.functional.softmax(out, dim=1)[0] * 100\n",
        "labels[index[0]], percentage[index[0]].item()"
      ],
      "execution_count": null,
      "outputs": []
    },
    {
      "cell_type": "code",
      "metadata": {
        "id": "_z5cRQBnAkJt"
      },
      "source": [
        "#他のものと推定される割合\n",
        "_, indices = torch.sort(out, descending=True)\n",
        "[(labels[idx], percentage[idx].item()) for idx in indices[0][:5]]"
      ],
      "execution_count": null,
      "outputs": []
    }
  ]
}